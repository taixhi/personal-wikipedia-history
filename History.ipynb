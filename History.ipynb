{
 "cells": [
  {
   "cell_type": "code",
   "execution_count": 1,
   "metadata": {},
   "outputs": [
    {
     "name": "stdout",
     "output_type": "stream",
     "text": [
      "List of autodidacts, Positivism, Coefficient of determination, Correlation coefficient, Student's t-test, Talk:Larry Sanger, Larry Sanger, Claremont McKenna College, Pomona College, Pitzer College, Claremont Colleges, Carnegie Mellon School of Computer Science, Dietrich College of Humanities and Social Sciences, Beer–Lambert law, Absorbance, Attenuation coefficient, Attenuation, Collimated beam, Propagation constant, Electromagnetic absorption by water, Radiant flux, Number density, Transparency and translucency, Beto O'Rourke, Amherst College, Olin College, Millennium Prize Problems, Yang–Mills existence and mass gap, Heidelberg University, Type system, Programming language, Special unitary group, Higgs boson, On Liberty, Hackathon, United World College of South East Asia, Logical equivalence, Pearson correlation coefficient, Comparison of reference management software, Information Age, Regression analysis, Chi-squared test, p-value, Russell Brand, City of Manchester Stadium, Ally Law, Degree symbol, Dictionary.com, Vulfpeck, Kodak Black, Kodak Black Press Photo by David Cabrera - Kodak Black, Mount Washington, Los Angeles, Pete Davidson, Julian Lennon, Michael Jackson albums discography, 1984 Brit Awards, Sigh No More (Mumford & Sons album), Brit Award for British Album of the Year, Sam Smith (singer), Appeal to emotion, Biological determinism, Incompatibilism, Reductio ad absurdum, J. J. C. Smart, Determinism, Calvin and Hobbes, Technological determinism, Reductionism, Hidden-variable theory, Interpretations of quantum mechanics, Danae Stratou, Ideal gas, José Ortega y Gasset, Linked list, Container (abstract data type), Abstract data type, John Hospers, Definitions of fascism, Moving average, Aramex, Phase velocity, Wave speed, Doppler effect, Newton (unit), SI base unit, Volt, nice (Unix), Fortune Global 500, National anthem of Russia, Tetris, George Underwood (artist), Thin-film interference, Indium tin oxide, Quip (software), Inference, Coffee wastewater, Coffee, Coffee bean storage, Robusta coffee, Dapper Dan (designer), National Urban League, Storage area network, Extranet, Storm Thorgerson, Animals (Pink Floyd album), Lil Nas X, Order of approximation, Small-angle approximation, Eclipse (breath freshener), Wrigley Company, Mars, Incorporated, Mars (chocolate bar), Forrest Mars Sr., John Stuart Mill, Henri de Saint-Simon, Auguste Comte, Masahito, Prince Hitachi, Hanako, Princess Hitachi, Prediction and Research Moored Array in the Atlantic, The Jay Leno Show, 2010 Tonight Show conflict, Sato Oki, Andrew L. Riker, O tempora o mores!, AAirpass, Ideal gas law, Gas constant, Voyager 1, Proxima Centauri, Alpha, Beta and Proxima Centauri (1) - Proxima Centauri, Red dwarf, Category:M-type stars, Category:M-type hypergiants, Local hidden-variable theory, Copenhagen interpretation, List of mathematical symbols by subject, Bohr–Einstein debates, Instrumentalism, Many-worlds interpretation, Syrup, Glucose, Sucrose, Alan Kay, Ken Thompson, Turing Award, Yann LeCun, Dextromethorphan, Bourgeois (disambiguation), Bourgeoisie, Geoffrey Hinton, Ziggy Stardust, Hallongrotta, Bloomberg Terminal, Bloomberg Terminal - Bloomberg Terminal, 2012 Bloomberg Terminal by jm3 - Creative Commons licensed - Bloomberg Terminal, Bloomberg terminal keyboard - Bloomberg Terminal, Concentration, GNU nano, Nano 2.1.2-svn - GNU nano, Mass concentration (chemistry), Polarizability, Optical rotatory dispersion, Refractive index, Refraction, Snell's law, Propagation of uncertainty, 2019 college admissions bribery scandal, Vigilante film, Taxi Driver, Hayao Miyazaki, Book sources, List of refractive indices, Germanium, Polymorphism (computer science), Encapsulation (computer programming), User:Dicklyon, Talk:Snell's law, Optics, Firesunset2edit - Optics, Howl's Moving Castle (film), The Elephant Celebes - Surrealism, La Revolution Surrealiste cover - Surrealism, Yvan Goll, Surréalisme, Manifeste du surréalisme, Volume 1, Number 1, October 1, 1924, cover by Robert Delaunay - Surrealism, Francis Picabia, photograph published in Les Peintres Cubistes, 1913 - Dada, Man Ray, 1920-21, Portrait of Marcel Duchamp, gelatin silver print, Yale University Art Gallery - Dada, Theo van Doesburg Dadamatinée - Dada, MechanicalHead-Hausmann - Dada, ABCD-Hausmann - Dada, En hod dada museum - Dada, Dadaglobe Form Letter to Vagts (Nov 1920) - Dada, Dada in Ultraman - Dada, Neo-Dada Organizers, Neo-Dada, Neo-Fauvism, Surrealism, Salvador Dalí, Mavo, Tinguely by Wolleh - Nouveau réalisme, Frottage (art), Gocce di memoria, grattage - olio su tela di Giovanni Guida - Frottage (art), Avant-garde, Fluxus, Nouveau réalisme, Aleatoricism, Dada, Max Ernst, Portal:Capitalism, Neo-Capitalism, Capitalism, Houghton Typ 915.22.3605 Répétitions, 1922 - frontispiece - Max Ernst, Man Ray, Dessin - Dada, Surreal humour, Surrealist Manifesto, André Breton, Non sequitur (literary device), Non sequitur, Theism, Kunming railway station, Mandarin Chinese profanity, Gay Brewer, Gay (given name), Memory hierarchy, Euler's formula, Adam Smith, Demoscene, Object code, Opcode table, Opcode, Assembly language, Instruction set architecture, Abstraction (computer science), Double-slit experiment, Intuitionism, Philosophy of mathematics, Law of excluded middle, QED manifesto, David Hilbert, Karl Popper, Colleges of the University of Cambridge, BibTeX, Social class, CPU cache, Static random-access memory, ComputerMemoryHierarchy - Memory hierarchy, Editing Addressing mode, Addressing mode, Processor register, Eric Weinstein, Sam Harris, Prix de Rome, Académie royale d'architecture, Fumihiko Maki, Kiyonori Kikutake, Metabolism (architecture), Kisho Kurokawa, Homogeneous coordinates, Barycentric coordinate system, Canonical coordinates, Curvilinear coordinates, Coordinate system, Spherical coordinate system, Logic, Term logic, Sean Parker, Founders Fund, Integration using Euler's formula, Elixir of life, Philosopher's stone, Midas, Haba Snow Mountain, Authenticity (philosophy), Authenticity, Unbiased estimation of standard deviation, Thomas Markle, Meghan, Duchess of Sussex, Phase (waves), Zabré, Primality test, Resonance, File:Graham's Hierarchy of Disagreement.svg, Superposition principle, Library Genesis, Polarization rotator, Range (statistics), Hearing range, Q factor, Japan Airlines Flight 123, List of best-selling singles in the United States, List of best-selling singles, Speed of sound, Colin Furze, Mark Rober, Curiosity (rover), Mark Rober profile picture - Mark Rober, American Realism, Nighthawks, Moby-Dick, Up, Up and Away (song), Christopher Cross, Grammy Award for Best New Artist, Grammy Award for Song of the Year, List of Grammy Award categories, Grammy Award, List of Grammy Award winners and nominees by country, List of Japanese Grammy Award winners and nominees, Grammy Award for Best Rap/Sung Performance, 21 Savage, New General Service List, General Service List, Word lists by frequency, Exponentiation, Exponential function, Maslow's hierarchy of needs, Palace of Versailles, Marie Antoinette, Ted Kaczynski, Architects (British band), World War II, Megaupload, Mega (service), Metacritic, Metacritic logo - Metacritic, No Scrubs, Weezer (Teal Album), Africa (Toto song), Axis powers, Leaf, Qualcomm, Disphenoid, Rhombic disphenoid - Disphenoid, Quadrilateral\n"
     ]
    }
   ],
   "source": [
    "import json\n",
    "import os\n",
    "import gensim\n",
    "\n",
    "from os import path\n",
    "from wordcloud import WordCloud\n",
    "wiki_item = []\n",
    "with open('history.json') as json_data:\n",
    "\tdata = json.load(json_data)\n",
    "\tfor item in data:\n",
    "\t\tif 'en.wikipedia.org' in item['url'] and 'wikimedia' not in item['url'] and item['title'].replace(' - Wikipedia', '') not in wiki_item:\n",
    "\t\t\twiki_item.append(item['title'].replace(' - Wikipedia', ''))\n",
    "string = (\", \").join(wiki_item)\n",
    "print(string)\n",
    "wordcloud = WordCloud(width=800, height=600).generate(string)\n",
    "# The pil way (if you don't have matplotlib)\n",
    "image = wordcloud.to_image()\n",
    "image.show()"
   ]
  },
  {
   "cell_type": "code",
   "execution_count": null,
   "metadata": {},
   "outputs": [],
   "source": [
    "# load pre-trained word2vec embeddings\n",
    "# The embeddings can be downloaded from command prompt:\n",
    "# wget -c \"https://s3.amazonaws.com/dl4j-distribution/GoogleNews-vectors-negative300.bin.gz\"\n",
    "model = gensim.models.KeyedVectors.load_word2vec_format('GoogleNews-vectors-negative300.bin.gz', binary=True)"
   ]
  },
  {
   "cell_type": "code",
   "execution_count": null,
   "metadata": {},
   "outputs": [],
   "source": [
    "import numpy as np\n",
    "from sklearn.manifold import TSNE\n",
    "import matplotlib.pyplot as plt\n",
    "\n",
    "\n",
    "def get_tsne_scatter_plot(model, word_array):\n",
    "    labels = []\n",
    "    arr = np.empty((0,300), dtype='f')\n",
    "    for word in word_array:\n",
    "        try: \n",
    "            vector = model[word]\n",
    "            labels.append(word)\n",
    "            arr = np.append(arr, np.array([vector]), axis=0)\n",
    "        except:\n",
    "            pass\n",
    "    # find tsne coords for 2 dimensions\n",
    "    tsne = TSNE(n_components=2, random_state=0)\n",
    "    np.set_printoptions(suppress=True)\n",
    "    Y = tsne.fit_transform(arr)\n",
    "    x_coords = Y[:, 0]\n",
    "    y_coords = Y[:, 1]\n",
    "    # display scatter plot\n",
    "    plt.figure(num=None, figsize=(8, 6), dpi=80, facecolor='w', edgecolor='k')\n",
    "    plt.scatter(x_coords, y_coords)\n",
    "\n",
    "    for label, x, y in zip(labels, x_coords, y_coords):\n",
    "        plt.annotate(label, xy=(x, y), xytext=(0, 0), textcoords='offset points')\n",
    "    plt.xlim(x_coords.min()+0.00005, x_coords.max()+0.00005)\n",
    "    plt.ylim(y_coords.min()+0.00005, y_coords.max()+0.00005)\n",
    "    plt.show()"
   ]
  },
  {
   "cell_type": "code",
   "execution_count": null,
   "metadata": {},
   "outputs": [],
   "source": [
    "get_tsne_scatter_plot(model, wiki_item)"
   ]
  },
  {
   "cell_type": "code",
   "execution_count": null,
   "metadata": {},
   "outputs": [],
   "source": []
  },
  {
   "cell_type": "code",
   "execution_count": null,
   "metadata": {},
   "outputs": [],
   "source": []
  }
 ],
 "metadata": {
  "kernelspec": {
   "display_name": "Python 3",
   "language": "python",
   "name": "python3"
  },
  "language_info": {
   "codemirror_mode": {
    "name": "ipython",
    "version": 3
   },
   "file_extension": ".py",
   "mimetype": "text/x-python",
   "name": "python",
   "nbconvert_exporter": "python",
   "pygments_lexer": "ipython3",
   "version": "3.6.7"
  }
 },
 "nbformat": 4,
 "nbformat_minor": 2
}
